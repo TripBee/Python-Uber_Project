{
 "cells": [
  {
   "cell_type": "code",
   "execution_count": 88,
   "metadata": {},
   "outputs": [],
   "source": [
    "%matplotlib inline\n",
    "## Dependencies and Setup\n",
    "import matplotlib.pyplot as plt\n",
    "import pandas as pd\n",
    "import numpy as np\n",
    "\n",
    "## File to Load (Remember to change these)\n",
    "city_data_to_load = \"data/city_data.csv\"\n",
    "ride_data_to_load = \"data/ride_data.csv\"\n",
    "\n",
    "## Read the City and Ride Data.\n",
    "city_df = pd.read_csv(city_data_to_load)\n",
    "ride_df = pd.read_csv(ride_data_to_load)"
   ]
  },
  {
   "cell_type": "code",
   "execution_count": 89,
   "metadata": {},
   "outputs": [],
   "source": [
    "## Sort city_df and ride_df and look at their structure.\n",
    "city_df = city_df.sort_values('city').reset_index(drop=True)\n",
    "ride_df = ride_df.sort_values('city').reset_index(drop=True)\n",
    "\n",
    "# print(\"city_df\")\n",
    "# print(city_df.columns)\n",
    "# print(city_df.head())\n",
    "\n",
    "# print(\"ride_df\")\n",
    "# print(ride_df.columns)\n",
    "# print(ride_df.head())"
   ]
  },
  {
   "cell_type": "code",
   "execution_count": 93,
   "metadata": {},
   "outputs": [],
   "source": [
    "## Combine the data into a single dataset\n",
    "C_R_DF = pd.merge(city_df,ride_df, on=\"city\")\n",
    "C_R_DF = C_R_DF.sort_values('city').reset_index(drop=True)\n",
    "\n",
    "# print(\"C_R_DF is a full merged DataFrame of city + ride data. It is merged on city and organized alphebetically.\")\n",
    "# C_R_DF.head()"
   ]
  },
  {
   "cell_type": "code",
   "execution_count": 94,
   "metadata": {},
   "outputs": [
    {
     "name": "stdout",
     "output_type": "stream",
     "text": [
      "There are 120 cities in the dataset.\n",
      "we should use an automated approach since there are too many to look at individuallly.\n"
     ]
    }
   ],
   "source": [
    "## How many cities are there? \n",
    "## What approach should we take to finding stats for each city?\n",
    "list_of_cities = C_R_DF.city.unique()\n",
    "number_of_cities = len(list_of_cities)\n",
    "\n",
    "# print(\"There are \"+str(number_of_cities)+\" cities in the dataset.\" )\n",
    "# print(\"we should use an automated approach since there are too many to look at individuallly.\")"
   ]
  },
  {
   "cell_type": "code",
   "execution_count": 96,
   "metadata": {},
   "outputs": [],
   "source": [
    "## Group the dataframe by city name. \n",
    "## Then perform functions on the group object to find answers.\n",
    "groupedDF = C_R_DF.groupby(\"city\")\n",
    "\n",
    "# print(type(groupedDF))\n",
    "# print(groupedDF.mean().head())\n",
    "# print(groupedDF.count().head())\n",
    "# print(groupedDF.sum().head())"
   ]
  },
  {
   "cell_type": "code",
   "execution_count": 97,
   "metadata": {},
   "outputs": [],
   "source": [
    "## isolate all the column-answers we want \n",
    "mean_fare_data = groupedDF.mean()[\"fare\"]\n",
    "total_ride_data = groupedDF.count()[\"ride_id\"]\n",
    "total_drivers_data = groupedDF.mean()[\"driver_count\"]\n",
    "\n",
    "# turn them into a list so they can be put into another column\n",
    "mean_fare_data_list = list(mean_fare_data)\n",
    "total_ride_data_list = list(total_ride_data)\n",
    "total_drivers_data_list = list(total_drivers_data)"
   ]
  },
  {
   "cell_type": "code",
   "execution_count": 100,
   "metadata": {},
   "outputs": [],
   "source": [
    "## Create the DataFrame for the bubble plot results. \n",
    "results_bubble = pd.DataFrame()\n",
    "results_bubble[\"City\"] = list_of_cities  \n",
    "results_bubble[\"Average Ride Fare\"] = mean_fare_data_list\n",
    "results_bubble[\"Total Number of Rides\"] = total_ride_data_list\n",
    "results_bubble[\"City Type\"] = city_df[\"type\"]\n",
    "results_bubble = results_bubble.sort_values(\"City\").reset_index(drop=True)\n",
    "\n",
    "# results_bubble.head()"
   ]
  },
  {
   "cell_type": "code",
   "execution_count": 61,
   "metadata": {},
   "outputs": [],
   "source": [
    "## Create three dataframes that have just \"urban\"/\"suburban\"/\"rural\" info.\n",
    "urban_data = C_R_DF.loc[C_R_DF[\"type\"] == \"Urban\",:]\n",
    "suburban_data = C_R_DF.loc[C_R_DF[\"type\"] == \"Suburban\",:]\n",
    "rural_data = C_R_DF.loc[C_R_DF[\"type\"] == \"Rural\",:]\n",
    "\n",
    "# urban_data.head()\n",
    "# suburban_data.head()\n",
    "# rural_data.head()"
   ]
  },
  {
   "cell_type": "code",
   "execution_count": 66,
   "metadata": {},
   "outputs": [],
   "source": [
    "## Sort them and give them proper indexes.\n",
    "urban_data = urban_data.sort_values([\"city\", \"date\"], ascending = True).reset_index(drop=True)\n",
    "suburban_data = suburban_data.sort_values([\"city\", \"date\"], ascending = True).reset_index(drop=True)\n",
    "rural_data = rural_data.sort_values([\"city\", \"date\"], ascending = True).reset_index(drop=True)\n",
    "\n",
    "# urban_data.head()\n",
    "# suburban_data.head()\n",
    "# rural_data.head()"
   ]
  },
  {
   "cell_type": "code",
   "execution_count": 81,
   "metadata": {},
   "outputs": [],
   "source": [
    "## Calculate sum_fares.\n",
    "urb_sum_fares = urban_data.fare.sum()\n",
    "urb_sum_fares = float(urb_sum_fares)\n",
    "urb_sum_fares = round(urb_sum_fares,2)\n",
    "\n",
    "sub_sum_fares = suburban_data.fare.sum()\n",
    "sub_sum_fares = float(sub_sum_fares)\n",
    "sub_sum_fares = round(sub_sum_fares,2)\n",
    "\n",
    "rur_sum_fares = rural_data.fare.sum()\n",
    "rur_sum_fares = float(rur_sum_fares)\n",
    "rur_sum_fares = round(rur_sum_fares,2)\n",
    "\n",
    "# print(urb_sum_fares)\n",
    "# print(sub_sum_fares)\n",
    "# print(rur_sum_fares)"
   ]
  },
  {
   "cell_type": "code",
   "execution_count": 75,
   "metadata": {},
   "outputs": [],
   "source": [
    "## Calculate sum_rides.\n",
    "urb_sum_rides = urban_data.fare.count()\n",
    "sub_sum_rides = suburban_data.fare.count()\n",
    "rur_sum_rides = rural_data.fare.count()\n",
    "\n",
    "# print(urb_sum_rides)\n",
    "# print(sub_sum_rides)\n",
    "# print(rur_sum_rides)"
   ]
  },
  {
   "cell_type": "code",
   "execution_count": 74,
   "metadata": {},
   "outputs": [],
   "source": [
    "# Then, calculate urb_drivers\n",
    "urb_drivers = urban_data.iloc[0,1]\n",
    "sub_drivers = suburban_data.iloc[0,1]\n",
    "rur_drivers = rural_data.iloc[0,1]\n",
    "\n",
    "# print(urb_drivers)\n",
    "# print(sub_drivers)\n",
    "# print(rur_drivers)"
   ]
  },
  {
   "cell_type": "code",
   "execution_count": 101,
   "metadata": {},
   "outputs": [],
   "source": [
    "## Create a Dataframe to hold the pie chart results.\n",
    "results_pie = pd.DataFrame()\n",
    "results_pie[\"city\"] = [\"Urban\", \"Suburban\", \"Rural\"]\n",
    "results_pie[\"total_fares\"] = [urb_sum_fares, sub_sum_fares, rur_sum_fares]\n",
    "results_pie[\"total_rides\"] = [urb_sum_rides, sub_sum_rides, rur_sum_rides]\n",
    "results_pie[\"total_drivers\"] = [urb_drivers, sub_drivers, rur_drivers] \n",
    "\n",
    "# results_pie.head()"
   ]
  },
  {
   "cell_type": "code",
   "execution_count": null,
   "metadata": {},
   "outputs": [],
   "source": [
    " "
   ]
  },
  {
   "cell_type": "code",
   "execution_count": null,
   "metadata": {},
   "outputs": [],
   "source": []
  },
  {
   "cell_type": "code",
   "execution_count": null,
   "metadata": {},
   "outputs": [],
   "source": []
  },
  {
   "cell_type": "code",
   "execution_count": null,
   "metadata": {},
   "outputs": [],
   "source": []
  },
  {
   "cell_type": "markdown",
   "metadata": {},
   "source": [
    "## Bubble Plot of Ride Sharing Data"
   ]
  },
  {
   "cell_type": "code",
   "execution_count": 2,
   "metadata": {},
   "outputs": [
    {
     "ename": "NameError",
     "evalue": "name 'results' is not defined",
     "output_type": "error",
     "traceback": [
      "\u001b[0;31m---------------------------------------------------------------------------\u001b[0m",
      "\u001b[0;31mNameError\u001b[0m                                 Traceback (most recent call last)",
      "\u001b[0;32m<ipython-input-2-8f06c176f7d8>\u001b[0m in \u001b[0;36m<module>\u001b[0;34m()\u001b[0m\n\u001b[1;32m      1\u001b[0m \u001b[0;31m# Obtain the x and y coordinates for each of the three city types\u001b[0m\u001b[0;34m\u001b[0m\u001b[0;34m\u001b[0m\u001b[0m\n\u001b[0;32m----> 2\u001b[0;31m \u001b[0mx_axis\u001b[0m \u001b[0;34m=\u001b[0m \u001b[0mresults\u001b[0m\u001b[0;34m[\u001b[0m\u001b[0;34m\"Total Number of Rides\"\u001b[0m\u001b[0;34m]\u001b[0m\u001b[0;34m\u001b[0m\u001b[0m\n\u001b[0m\u001b[1;32m      3\u001b[0m \u001b[0mx_axis\u001b[0m \u001b[0;34m=\u001b[0m \u001b[0mresults\u001b[0m\u001b[0;34m[\u001b[0m\u001b[0;34m\"Average Ride Fare\"\u001b[0m\u001b[0;34m]\u001b[0m\u001b[0;34m\u001b[0m\u001b[0m\n\u001b[1;32m      4\u001b[0m \u001b[0;31m# Build the scatter plots for each city types\u001b[0m\u001b[0;34m\u001b[0m\u001b[0;34m\u001b[0m\u001b[0m\n\u001b[1;32m      5\u001b[0m \u001b[0;34m\u001b[0m\u001b[0m\n",
      "\u001b[0;31mNameError\u001b[0m: name 'results' is not defined"
     ]
    }
   ],
   "source": [
    "# Obtain the x and y coordinates for each of the three city types\n",
    "x_axis = results[\"Total Number of Rides\"]\n",
    "x_axis = results[\"Average Ride Fare\"]\n",
    "# Build the scatter plots for each city types\n",
    "\n",
    "# Incorporate the other graph properties\n",
    "\n",
    "# Create a legend\n",
    "\n",
    "# Incorporate a text label regarding circle size\n",
    "\n",
    "# Save Figure\n"
   ]
  },
  {
   "cell_type": "code",
   "execution_count": 3,
   "metadata": {},
   "outputs": [
    {
     "ename": "NameError",
     "evalue": "name 'plt' is not defined",
     "output_type": "error",
     "traceback": [
      "\u001b[0;31m---------------------------------------------------------------------------\u001b[0m",
      "\u001b[0;31mNameError\u001b[0m                                 Traceback (most recent call last)",
      "\u001b[0;32m<ipython-input-3-a9d95880be46>\u001b[0m in \u001b[0;36m<module>\u001b[0;34m()\u001b[0m\n\u001b[1;32m      1\u001b[0m \u001b[0;31m# Show plot\u001b[0m\u001b[0;34m\u001b[0m\u001b[0;34m\u001b[0m\u001b[0m\n\u001b[0;32m----> 2\u001b[0;31m \u001b[0mplt\u001b[0m\u001b[0;34m.\u001b[0m\u001b[0mshow\u001b[0m\u001b[0;34m(\u001b[0m\u001b[0;34m)\u001b[0m\u001b[0;34m\u001b[0m\u001b[0m\n\u001b[0m",
      "\u001b[0;31mNameError\u001b[0m: name 'plt' is not defined"
     ]
    }
   ],
   "source": [
    "# Show plot\n",
    "plt.show()"
   ]
  },
  {
   "cell_type": "markdown",
   "metadata": {},
   "source": [
    "## Total Fares by City Type"
   ]
  },
  {
   "cell_type": "code",
   "execution_count": 4,
   "metadata": {},
   "outputs": [],
   "source": [
    "# Calculate Type Percents\n",
    "\n",
    "# Build Pie Chart\n",
    "\n",
    "# Save Figure\n"
   ]
  },
  {
   "cell_type": "code",
   "execution_count": 5,
   "metadata": {},
   "outputs": [
    {
     "ename": "NameError",
     "evalue": "name 'plt' is not defined",
     "output_type": "error",
     "traceback": [
      "\u001b[0;31m---------------------------------------------------------------------------\u001b[0m",
      "\u001b[0;31mNameError\u001b[0m                                 Traceback (most recent call last)",
      "\u001b[0;32m<ipython-input-5-f6ad4b079b4f>\u001b[0m in \u001b[0;36m<module>\u001b[0;34m()\u001b[0m\n\u001b[1;32m      1\u001b[0m \u001b[0;31m# Show Figure\u001b[0m\u001b[0;34m\u001b[0m\u001b[0;34m\u001b[0m\u001b[0m\n\u001b[0;32m----> 2\u001b[0;31m \u001b[0mplt\u001b[0m\u001b[0;34m.\u001b[0m\u001b[0mshow\u001b[0m\u001b[0;34m(\u001b[0m\u001b[0;34m)\u001b[0m\u001b[0;34m\u001b[0m\u001b[0m\n\u001b[0m",
      "\u001b[0;31mNameError\u001b[0m: name 'plt' is not defined"
     ]
    }
   ],
   "source": [
    "# Show Figure\n",
    "plt.show()"
   ]
  },
  {
   "cell_type": "markdown",
   "metadata": {},
   "source": [
    "## Total Rides by City Type"
   ]
  },
  {
   "cell_type": "code",
   "execution_count": null,
   "metadata": {},
   "outputs": [],
   "source": [
    "# Calculate Ride Percents\n",
    "\n",
    "# Build Pie Chart\n",
    "\n",
    "# Save Figure\n"
   ]
  },
  {
   "cell_type": "code",
   "execution_count": 5,
   "metadata": {},
   "outputs": [
    {
     "data": {
      "image/png": "[encoded data removed]",
      "text/plain": [
       "<Figure size 432x288 with 1 Axes>"
      ]
     },
     "metadata": {},
     "output_type": "display_data"
    }
   ],
   "source": [
    "# Show Figure\n",
    "plt.show()"
   ]
  },
  {
   "cell_type": "markdown",
   "metadata": {},
   "source": [
    "## Total Drivers by City Type"
   ]
  },
  {
   "cell_type": "code",
   "execution_count": null,
   "metadata": {},
   "outputs": [],
   "source": [
    "# Calculate Driver Percents\n",
    "\n",
    "# Build Pie Charts\n",
    "\n",
    "# Save Figure\n"
   ]
  },
  {
   "cell_type": "code",
   "execution_count": 6,
   "metadata": {
    "scrolled": true
   },
   "outputs": [
    {
     "data": {
      "image/png": "[encoded data removed]",
      "text/plain": [
       "<Figure size 432x288 with 1 Axes>"
      ]
     },
     "metadata": {},
     "output_type": "display_data"
    }
   ],
   "source": [
    "# Show Figure\n",
    "plt.show()"
   ]
  },
  {
   "cell_type": "code",
   "execution_count": null,
   "metadata": {},
   "outputs": [],
   "source": []
  }
 ],
 "metadata": {
  "anaconda-cloud": {},
  "kernelspec": {
   "display_name": "Python 3",
   "language": "python",
   "name": "python3"
  },
  "language_info": {
   "codemirror_mode": {
    "name": "ipython",
    "version": 3
   },
   "file_extension": ".py",
   "mimetype": "text/x-python",
   "name": "python",
   "nbconvert_exporter": "python",
   "pygments_lexer": "ipython3",
   "version": "3.6.5"
  }
 },
 "nbformat": 4,
 "nbformat_minor": 2
}
